{
 "cells": [
  {
   "cell_type": "code",
   "execution_count": 1,
   "metadata": {
    "collapsed": true
   },
   "outputs": [],
   "source": [
    "#!pwd\n",
    "\n",
    "%matplotlib inline\n",
    "import matplotlib\n",
    "import matplotlib.pyplot as plt\n",
    "\n",
    "import sys\n",
    "import itertools\n",
    "from collections import Counter, defaultdict\n",
    "import numpy as np\n",
    "import scipy.stats, scipy.spatial, scipy.signal\n",
    "import os\n",
    "import json\n",
    "from path import Path; Path.stem = Path.namebase\n",
    "from natsort import natsorted\n",
    "from tqdm import tqdm\n",
    "\n",
    "from ppm3d import Cluster, align, AlignedData\n",
    "from motifextraction import load_cns\n",
    "from motifextraction.utils import get_norm_factors, FractionalCounter"
   ]
  },
  {
   "cell_type": "code",
   "execution_count": 10,
   "metadata": {
    "collapsed": true
   },
   "outputs": [],
   "source": [
    "data_path = Path(\"../data\")\n",
    "cluster_path = data_path / \"clusters\"\n",
    "motif_path = data_path / \"averaged\"\n",
    "motif_errors_path = data_path / \"motif_errors\"\n",
    "errors_path = data_path / \"errors\""
   ]
  },
  {
   "cell_type": "code",
   "execution_count": 11,
   "metadata": {},
   "outputs": [
    {
     "name": "stdout",
     "output_type": "stream",
     "text": [
      "Loading cns...\n",
      "158\n",
      "Counter({11: 62, 12: 52, 13: 28, 10: 16})\n"
     ]
    }
   ],
   "source": [
    "cluster_cns = load_cns(cluster_path).astype(int)\n",
    "NCLUSTERS = len(cluster_cns)\n",
    "print(NCLUSTERS)\n",
    "print(Counter(cluster_cns))"
   ]
  },
  {
   "cell_type": "code",
   "execution_count": 12,
   "metadata": {},
   "outputs": [
    {
     "name": "stdout",
     "output_type": "stream",
     "text": [
      "5\n"
     ]
    }
   ],
   "source": [
    "motif_fns = natsorted(motif_path.glob(\"*.xyz\"))\n",
    "motif_fns = [f for f in motif_fns if not f.stem.startswith(\"ignore\")]\n",
    "NMOTIFS = len(motif_fns)\n",
    "print(NMOTIFS)"
   ]
  },
  {
   "cell_type": "code",
   "execution_count": 13,
   "metadata": {},
   "outputs": [],
   "source": [
    "motifs = [Cluster(filename=fn) for fn in motif_fns]"
   ]
  },
  {
   "cell_type": "code",
   "execution_count": 14,
   "metadata": {},
   "outputs": [
    {
     "name": "stdout",
     "output_type": "stream",
     "text": [
      "11\n",
      "13\n",
      "11\n",
      "12\n",
      "12\n"
     ]
    }
   ],
   "source": [
    "for motif in motifs:\n",
    "    print(motif.CN)"
   ]
  },
  {
   "cell_type": "code",
   "execution_count": 15,
   "metadata": {
    "scrolled": false
   },
   "outputs": [
    {
     "name": "stdout",
     "output_type": "stream",
     "text": [
      "0.03761310880766914 averaged_0 averaged_1 11 13\n",
      "0.04660025505512661 averaged_0 averaged_2 11 11\n",
      "0.03679098893935528 averaged_0 averaged_4 11 12\n",
      "0.0026237498401509673 averaged_0 averaged_5 11 12\n",
      "0.05219956387591183 averaged_1 averaged_2 13 11\n",
      "0.0018985994945476309 averaged_1 averaged_4 13 12\n",
      "0.03619557708311361 averaged_1 averaged_5 13 12\n",
      "0.049098749864440856 averaged_2 averaged_4 11 12\n",
      "0.04805389731133036 averaged_2 averaged_5 11 12\n",
      "0.050340142814096385 averaged_4 averaged_5 12 12\n"
     ]
    }
   ],
   "source": [
    "for m1, m2 in itertools.combinations(motifs, 2):\n",
    "    data = AlignedData.from_mapping(align(m1.filename, m2.filename))\n",
    "    print(data.error, m1.filename.stem, m2.filename.stem, m1.CN, m2.CN)\n",
    "    \n",
    "# If two motifs are identical, rename one of them to start with `ignore_`,\n",
    "#  then rerun this notebook.\n",
    "\n",
    "# There were 3 motifs that were the same (averaged_1, averaged_3, and averaged_6; the exact numbers may be different for you).\n",
    "#  I kept one of them and ignored the other two.\n",
    "#  This reduced the number of identified motifs from 7 to 5."
   ]
  },
  {
   "cell_type": "code",
   "execution_count": null,
   "metadata": {
    "collapsed": true
   },
   "outputs": [],
   "source": []
  },
  {
   "cell_type": "code",
   "execution_count": 16,
   "metadata": {
    "collapsed": true
   },
   "outputs": [],
   "source": [
    "# Only clusters with CN >= 10 were considered.\n",
    "#  This was coded into the `generate_clusters_for_alignment.py` file at the\n",
    "#  very beginning of this example.\n",
    "clusters = [Cluster(filename=cluster_path / f\"{i}.xyz\") for i in range(NCLUSTERS)]"
   ]
  },
  {
   "cell_type": "code",
   "execution_count": null,
   "metadata": {
    "collapsed": true
   },
   "outputs": [],
   "source": []
  },
  {
   "cell_type": "code",
   "execution_count": 17,
   "metadata": {
    "collapsed": true
   },
   "outputs": [],
   "source": [
    "# Load norm factors\n",
    "with open(data_path / \"norm_factors.json\") as f:\n",
    "    _norm_factors = json.load(f)\n",
    "    L2_norm_factors = _norm_factors[\"L2\"]\n",
    "    L1_norm_factors = _norm_factors[\"L1\"]\n",
    "    Linf_norm_factors = _norm_factors[\"Linf\"]\n",
    "    angular_norm_factors = _norm_factors[\"angular\"]"
   ]
  },
  {
   "cell_type": "code",
   "execution_count": 18,
   "metadata": {},
   "outputs": [
    {
     "name": "stdout",
     "output_type": "stream",
     "text": [
      "(5, 158)\n"
     ]
    }
   ],
   "source": [
    "# Load motif errors\n",
    "motif_errors = np.zeros((NMOTIFS, NCLUSTERS, 4))\n",
    "motif_errors.fill(np.nan)\n",
    "for i, fn in enumerate(motif_fns):\n",
    "    stem = '_'.join(fn.namebase.split('_')[:])\n",
    "    efn = motif_errors_path / (stem + '_errors.npy')\n",
    "    motif_errors[i, :, :] = np.load(efn)\n",
    "\n",
    "motif_errors[:, :, 0]\n",
    "motif_errors[:, :, 0][np.where(motif_errors[:, :, 0] > L2_norm_factors['set_to_inf_before_dividing'])] = np.inf\n",
    "motif_errors[:, :, 0][np.isinf(motif_errors[:, :, 0])] = np.nan\n",
    "motif_errors[:, :, 0] /= L2_norm_factors['divide_by']\n",
    "\n",
    "motif_errors[:, :, 1]\n",
    "motif_errors[:, :, 1][np.where(motif_errors[:, :, 1] > L1_norm_factors['set_to_inf_before_dividing'])] = np.inf\n",
    "motif_errors[:, :, 1][np.isinf(motif_errors[:, :, 1])] = np.nan\n",
    "motif_errors[:, :, 1] /= L1_norm_factors['divide_by']\n",
    "\n",
    "motif_errors[:, :, 2]\n",
    "motif_errors[:, :, 2][np.where(motif_errors[:, :, 2] > Linf_norm_factors['set_to_inf_before_dividing'])] = np.inf\n",
    "motif_errors[:, :, 2][np.isinf(motif_errors[:, :, 2])] = np.nan\n",
    "motif_errors[:, :, 2] /= Linf_norm_factors['divide_by']\n",
    "\n",
    "motif_errors[:, :, 3]\n",
    "motif_errors[:, :, 3][np.where(motif_errors[:, :, 3] > angular_norm_factors['set_to_inf_before_dividing'])] = np.inf\n",
    "motif_errors[:, :, 3][np.isinf(motif_errors[:, :, 3])] = np.nan\n",
    "motif_errors[:, :, 3] /= angular_norm_factors['divide_by']\n",
    "\n",
    "motif_errors = scipy.stats.gmean(motif_errors, axis=2)\n",
    "print(motif_errors.shape)"
   ]
  },
  {
   "cell_type": "code",
   "execution_count": null,
   "metadata": {
    "collapsed": true
   },
   "outputs": [],
   "source": []
  },
  {
   "cell_type": "code",
   "execution_count": 19,
   "metadata": {
    "collapsed": true
   },
   "outputs": [],
   "source": [
    "# Assign\n",
    "def assign(c, motifs, motif_errors):\n",
    "    e = np.inf\n",
    "    idx = np.nan\n",
    "    for i, motif in enumerate(motifs):\n",
    "        if np.abs(cluster_cns[c] - motif.CN) > 0:  # Enforce CN similarity +- 0\n",
    "            continue\n",
    "        if motif_errors[i, c] < e:\n",
    "            e = motif_errors[i, c]\n",
    "            idx = i\n",
    "    return idx, e\n",
    "\n",
    "assignments = np.zeros((NCLUSTERS))\n",
    "assignments.fill(np.nan)\n",
    "for c in range(NCLUSTERS):\n",
    "    assignments[c] = assign(c, motifs, motif_errors)[0]"
   ]
  },
  {
   "cell_type": "code",
   "execution_count": 25,
   "metadata": {},
   "outputs": [
    {
     "data": {
      "image/png": "[encoded data removed]",
      "text/plain": [
       "<Figure size 432x288 with 1 Axes>"
      ]
     },
     "metadata": {},
     "output_type": "display_data"
    }
   ],
   "source": [
    "cnmin = min({motif.CN for motif in motifs})\n",
    "cnmax = max({motif.CN for motif in motifs})\n",
    "c = Counter(assignments[~np.isnan(assignments)].astype(int))\n",
    "c_frac = Counter(assignments[~np.isnan(assignments)].astype(int))\n",
    "c = Counter({motifs[i]: count for i, count in c.items()})\n",
    "c_frac = Counter({motifs[i]: count for i, count in c_frac.items()})\n",
    "\n",
    "for motif, count in c.most_common():\n",
    "    #print(count, motif.filename.stem)\n",
    "    cn_frac = len([motif for motif in motifs if motif.CN == motif.CN]) / float(NMOTIFS)\n",
    "    c_frac[motif] = count*cn_frac\n",
    "\n",
    "# normalize by CN distribution of the model\n",
    "colors = itertools.cycle([f'C{i}' for i in range(10)])\n",
    "bar_totals = defaultdict(int)\n",
    "width = 0.75\n",
    "for motif, count in sorted(c.most_common(), key=lambda pair: pair[0].CN):\n",
    "    f = sum(cluster_cns == motif.CN)\n",
    "    label = motif.filename.stem\n",
    "    plt.bar([motif.CN], [count],\n",
    "            width=width,\n",
    "            bottom=[bar_totals[motif.CN]],\n",
    "            color=next(colors),\n",
    "            label=label\n",
    "            )\n",
    "    bar_totals[motif.CN] += count\n",
    "    #print(motif.filename.stem, round(count / float(f) * 100, 1))\n",
    "plt.xlim([cnmin - .5, cnmax +.5])\n",
    "plt.legend(bbox_to_anchor=(1, 1.03), ncol=2)\n",
    "plt.xlabel(\"CN\")\n",
    "plt.ylabel(\"counts\")\n",
    "plt.xticks(list(range(cnmin, cnmax+1)))\n",
    "plt.show()"
   ]
  },
  {
   "cell_type": "code",
   "execution_count": 26,
   "metadata": {
    "collapsed": true
   },
   "outputs": [],
   "source": [
    "counter = defaultdict(Counter)\n",
    "for i in range(NCLUSTERS):\n",
    "    a = assignments[i]\n",
    "    if np.isnan(a):\n",
    "        continue\n",
    "    m = motifs[int(a)]\n",
    "    c = clusters[i]\n",
    "    counter[m][c.atoms[-1].symbol] += 1"
   ]
  },
  {
   "cell_type": "code",
   "execution_count": 27,
   "metadata": {},
   "outputs": [
    {
     "name": "stdout",
     "output_type": "stream",
     "text": [
      "averaged_1 13 Counter({'Zr': 28})\n",
      "averaged_4 12 Counter({'Zr': 16})\n",
      "averaged_5 12 Counter({'Zr': 36})\n",
      "averaged_0 11 Counter({'Zr': 12})\n",
      "averaged_2 11 Counter({'Cu': 44})\n"
     ]
    }
   ],
   "source": [
    "for m, c in counter.items():\n",
    "    print(m.filename.stem, m.CN, c)"
   ]
  },
  {
   "cell_type": "code",
   "execution_count": 15,
   "metadata": {
    "collapsed": true
   },
   "outputs": [],
   "source": [
    "# Conclusion:\n",
    "#  * There are two Zr environments with CN 12.\n",
    "#  * There is one Zr environment and one Cu environment with CN 11.\n",
    "#  * There is one Zr environment with CN 13.\n",
    "#  * These are the 5 environments in the crystal. They are unique (as determined by the\n",
    "#    motif-to-motif alignments above.)"
   ]
  },
  {
   "cell_type": "code",
   "execution_count": null,
   "metadata": {
    "collapsed": true
   },
   "outputs": [],
   "source": []
  }
 ],
 "metadata": {
  "kernelspec": {
   "display_name": "Python 3",
   "language": "python",
   "name": "python3"
  },
  "language_info": {
   "codemirror_mode": {
    "name": "ipython",
    "version": 3
   },
   "file_extension": ".py",
   "mimetype": "text/x-python",
   "name": "python",
   "nbconvert_exporter": "python",
   "pygments_lexer": "ipython3",
   "version": "3.6.2"
  }
 },
 "nbformat": 4,
 "nbformat_minor": 2
}
